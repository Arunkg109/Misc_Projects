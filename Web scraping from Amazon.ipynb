{
 "cells": [
  {
   "cell_type": "code",
   "execution_count": 1,
   "id": "ddbb32d9",
   "metadata": {},
   "outputs": [],
   "source": [
    "# import libraries\n",
    "\n",
    "import pandas as pd            \n",
    "from bs4 import BeautifulSoup    # to tell from we are getting data from\n",
    "import requests    \n",
    "import time            \n",
    "import datetime\n",
    "\n",
    "\n",
    "import smtplib         # uses to sending email to yourself\n"
   ]
  },
  {
   "cell_type": "code",
   "execution_count": 2,
   "id": "56dbb40b",
   "metadata": {},
   "outputs": [],
   "source": [
    "# Connecting to website from where we want to scrape data\n",
    "\n",
    "#URL = 'https://www.amazon.in/Automate-Boring-Stuff-Python-2nd/dp/1593279922/ref=sr_1_1?crid=1GTTT0GJG563M&keywords=automate+the+boring+stuff+with+python&qid=1661113027&sprefix=automate+boring++python%2Caps%2C1092&sr=8-1'\n",
    "\n",
    "#headers = { \"User-Agent\": \"Mozilla/5.0 (Windows NT 10.0; Win64; x64) AppleWebKit/537.36 (KHTML, like Gecko) Chrome/103.0.5060.134 Safari/537.36 OPR/89.0.4447.83\",\"Accept-Encoding\": \"gzip, deflate\",\"Accept\": \"text/html,application/xhtml+xml,application/xml;q=0.9,image/avif,image/webp,image/apng,*/*;q=0.8,application/signed-exchange;v=b3;q=0.9\",\"Upgrade-Insecure-Requests\": \"1\"}\n",
    "  # It stores 'User Agent' above link can be get from 'httpbin.org/get'\n",
    "    \n",
    "    \n",
    "#page = requests.get(URL, headers=headers)    # requesting data from the link and header\n",
    "\n",
    "#soup1 = BeautifulSoup(page.content, \"html.parser\") # data will receive in form of HTML script\n",
    "#soup2 = BeautifulSoup(soup1.prettify(),'html.parser') # represent html code in better formate.\n",
    "\n",
    "\n"
   ]
  },
  {
   "cell_type": "code",
   "execution_count": 3,
   "id": "0ef40711",
   "metadata": {},
   "outputs": [
    {
     "name": "stdout",
     "output_type": "stream",
     "text": [
      "\n",
      "            Automate the Boring Stuff with Python, 2nd Edition\n",
      "           \n",
      "\n",
      "                          ₹2,429.00\n",
      "                         \n",
      "\n",
      "\n",
      "\n",
      "\n",
      "\n",
      "                4.6 out of 5 stars\n",
      "               \n",
      "\n",
      "\n",
      "\n",
      "\n",
      "\n",
      "\n",
      "\n",
      "\n"
     ]
    }
   ],
   "source": [
    "#title = soup2.find(id=\"productTitle\").get_text() # what exactly we want from the website, id=\"productTitle\" taken from inspect element\n",
    "#price = soup2.find(id=\"price\").get_text()\n",
    "#rating = soup2.find(id=\"acrPopover\").get_text()\n",
    "#print(title)\n",
    "#print(price)\n",
    "#print(rating)\n"
   ]
  },
  {
   "cell_type": "code",
   "execution_count": 4,
   "id": "a3426229",
   "metadata": {
    "scrolled": true
   },
   "outputs": [
    {
     "name": "stdout",
     "output_type": "stream",
     "text": [
      "Automate the Boring Stuff with Python, 2nd Edition\n",
      "2,429.00\n",
      "4.6 out of 5 stars\n"
     ]
    }
   ],
   "source": [
    "# getting more clear data\n",
    "\n",
    "#price = price.strip()[1:]  #[1:] will remove $ sign\n",
    "#title = title.strip()       # strip() remove extra spaces\n",
    "#rating = rating.strip()\n",
    "#print(title)\n",
    "#print(price)\n",
    "#print(rating)"
   ]
  },
  {
   "cell_type": "code",
   "execution_count": 5,
   "id": "1593c7e8",
   "metadata": {},
   "outputs": [
    {
     "data": {
      "text/plain": [
       "datetime.date(2022, 8, 25)"
      ]
     },
     "execution_count": 5,
     "metadata": {},
     "output_type": "execute_result"
    }
   ],
   "source": [
    "#import datetime\n",
    "\n",
    "#today=datetime.date.today()\n",
    "#today"
   ]
  },
  {
   "cell_type": "code",
   "execution_count": 6,
   "id": "e996f967",
   "metadata": {},
   "outputs": [],
   "source": [
    "# insert data into CSV\n",
    "\n",
    "#import csv\n",
    "\n",
    "#header = ['Title', 'Price', 'Rating', 'Date']\n",
    "#data = [title, price, rating, today]      # it's a list data type\n",
    "\n",
    "\n",
    "#with open('Amazon_web_scriper_book.csv', 'w', newline ='', encoding ='UTF8') as f:\n",
    "    #writer = csv.writer(f)\n",
    "    #writer.writerow(header)\n",
    "    #writer.writerow(data)  #w stand for writing the data\n",
    "    \n",
    "    "
   ]
  },
  {
   "cell_type": "code",
   "execution_count": 7,
   "id": "77e8114b",
   "metadata": {},
   "outputs": [
    {
     "data": {
      "text/html": [
       "<div>\n",
       "<style scoped>\n",
       "    .dataframe tbody tr th:only-of-type {\n",
       "        vertical-align: middle;\n",
       "    }\n",
       "\n",
       "    .dataframe tbody tr th {\n",
       "        vertical-align: top;\n",
       "    }\n",
       "\n",
       "    .dataframe thead th {\n",
       "        text-align: right;\n",
       "    }\n",
       "</style>\n",
       "<table border=\"1\" class=\"dataframe\">\n",
       "  <thead>\n",
       "    <tr style=\"text-align: right;\">\n",
       "      <th></th>\n",
       "      <th>Title</th>\n",
       "      <th>Price</th>\n",
       "      <th>Rating</th>\n",
       "      <th>Date</th>\n",
       "    </tr>\n",
       "  </thead>\n",
       "  <tbody>\n",
       "    <tr>\n",
       "      <th>0</th>\n",
       "      <td>Automate the Boring Stuff with Python, 2nd Edi...</td>\n",
       "      <td>2,429.00</td>\n",
       "      <td>4.6 out of 5 stars</td>\n",
       "      <td>2022-08-25</td>\n",
       "    </tr>\n",
       "  </tbody>\n",
       "</table>\n",
       "</div>"
      ],
      "text/plain": [
       "                                               Title     Price  \\\n",
       "0  Automate the Boring Stuff with Python, 2nd Edi...  2,429.00   \n",
       "\n",
       "               Rating        Date  \n",
       "0  4.6 out of 5 stars  2022-08-25  "
      ]
     },
     "execution_count": 7,
     "metadata": {},
     "output_type": "execute_result"
    }
   ],
   "source": []
  },
  {
   "cell_type": "code",
   "execution_count": null,
   "id": "4102c7ce",
   "metadata": {},
   "outputs": [],
   "source": []
  },
  {
   "cell_type": "code",
   "execution_count": 12,
   "id": "618dad30",
   "metadata": {},
   "outputs": [],
   "source": [
    "def check_price():\n",
    "    URL = 'https://www.amazon.in/Automate-Boring-Stuff-Python-2nd/dp/1593279922/ref=sr_1_1?crid=1GTTT0GJG563M&keywords=automate+the+boring+stuff+with+python&qid=1661113027&sprefix=automate+boring++python%2Caps%2C1092&sr=8-1'\n",
    "\n",
    "    headers = { \"User-Agent\": \"Mozilla/5.0 (Windows NT 10.0; Win64; x64) AppleWebKit/537.36 (KHTML, like Gecko) Chrome/103.0.5060.134 Safari/537.36 OPR/89.0.4447.83\",\"Accept-Encoding\": \"gzip, deflate\",\"Accept\": \"text/html,application/xhtml+xml,application/xml;q=0.9,image/avif,image/webp,image/apng,*/*;q=0.8,application/signed-exchange;v=b3;q=0.9\",\"Upgrade-Insecure-Requests\": \"1\"}\n",
    "      # It stores 'User Agent' above link can be get from 'httpbin.org/get'\n",
    "\n",
    "\n",
    "    page = requests.get(URL, headers=headers)    # requesting data from the link and header\n",
    "\n",
    "    soup1 = BeautifulSoup(page.content, \"html.parser\") # data will receive in form of HTML script\n",
    "    soup2 = BeautifulSoup(soup1.prettify(),'html.parser') # represent html code in better formate.\n",
    "    title = soup2.find(id=\"productTitle\").get_text() # what exactly we want from the website, id=\"productTitle\" taken from inspect element\n",
    "    price = soup2.find(id=\"price\").get_text()\n",
    "    rating = soup2.find(id=\"acrPopover\").get_text()\n",
    "    price = price.strip()[1:]  #[1:] will remove $ sign\n",
    "    title = title.strip()\n",
    "    rating = rating.strip()\n",
    "    import datetime\n",
    "\n",
    "    today=datetime.date.today()\n",
    "    \n",
    "    import csv\n",
    "\n",
    "    header = ['Title', 'Price', 'Rating', 'Date']\n",
    "    data = [title, price, rating, today]      # it's a list data type\n",
    "\n",
    "    # appending data to CSV\n",
    "    with open('Amazon_web_scriper_book.csv', 'a+', newline ='', encoding ='UTF8') as f:\n",
    "        writer = csv.writer(f)\n",
    "        writer.writerow(data)     # a+ used to append the data\n",
    "        \n",
    "    if(price<2000):\n",
    "        send_mail()\n",
    "    "
   ]
  },
  {
   "cell_type": "code",
   "execution_count": null,
   "id": "ce9870c5",
   "metadata": {},
   "outputs": [],
   "source": [
    "while(True):\n",
    "    check_price()\n",
    "    time.sleep(864000) # it'll check price every day!\n"
   ]
  },
  {
   "cell_type": "code",
   "execution_count": 13,
   "id": "c01e0e74",
   "metadata": {},
   "outputs": [
    {
     "data": {
      "text/html": [
       "<div>\n",
       "<style scoped>\n",
       "    .dataframe tbody tr th:only-of-type {\n",
       "        vertical-align: middle;\n",
       "    }\n",
       "\n",
       "    .dataframe tbody tr th {\n",
       "        vertical-align: top;\n",
       "    }\n",
       "\n",
       "    .dataframe thead th {\n",
       "        text-align: right;\n",
       "    }\n",
       "</style>\n",
       "<table border=\"1\" class=\"dataframe\">\n",
       "  <thead>\n",
       "    <tr style=\"text-align: right;\">\n",
       "      <th></th>\n",
       "      <th>Title</th>\n",
       "      <th>Price</th>\n",
       "      <th>Rating</th>\n",
       "      <th>Date</th>\n",
       "    </tr>\n",
       "  </thead>\n",
       "  <tbody>\n",
       "    <tr>\n",
       "      <th>0</th>\n",
       "      <td>Automate the Boring Stuff with Python, 2nd Edi...</td>\n",
       "      <td>2,429.00</td>\n",
       "      <td>4.6 out of 5 stars</td>\n",
       "      <td>2022-08-25</td>\n",
       "    </tr>\n",
       "    <tr>\n",
       "      <th>1</th>\n",
       "      <td>Automate the Boring Stuff with Python, 2nd Edi...</td>\n",
       "      <td>2,429.00</td>\n",
       "      <td>\\n\\n\\n\\n\\n                4.6 out of 5 stars\\n...</td>\n",
       "      <td>2022-08-25</td>\n",
       "    </tr>\n",
       "    <tr>\n",
       "      <th>2</th>\n",
       "      <td>Automate the Boring Stuff with Python, 2nd Edi...</td>\n",
       "      <td>2,429.00</td>\n",
       "      <td>\\n\\n\\n\\n\\n                4.6 out of 5 stars\\n...</td>\n",
       "      <td>2022-08-25</td>\n",
       "    </tr>\n",
       "    <tr>\n",
       "      <th>3</th>\n",
       "      <td>Automate the Boring Stuff with Python, 2nd Edi...</td>\n",
       "      <td>2,429.00</td>\n",
       "      <td>\\n\\n\\n\\n\\n                4.6 out of 5 stars\\n...</td>\n",
       "      <td>2022-08-25</td>\n",
       "    </tr>\n",
       "    <tr>\n",
       "      <th>4</th>\n",
       "      <td>Automate the Boring Stuff with Python, 2nd Edi...</td>\n",
       "      <td>2,429.00</td>\n",
       "      <td>\\n\\n\\n\\n\\n                4.6 out of 5 stars\\n...</td>\n",
       "      <td>2022-08-25</td>\n",
       "    </tr>\n",
       "    <tr>\n",
       "      <th>5</th>\n",
       "      <td>Automate the Boring Stuff with Python, 2nd Edi...</td>\n",
       "      <td>2,429.00</td>\n",
       "      <td>\\n\\n\\n\\n\\n                4.6 out of 5 stars\\n...</td>\n",
       "      <td>2022-08-25</td>\n",
       "    </tr>\n",
       "    <tr>\n",
       "      <th>6</th>\n",
       "      <td>Automate the Boring Stuff with Python, 2nd Edi...</td>\n",
       "      <td>2,429.00</td>\n",
       "      <td>\\n\\n\\n\\n\\n                4.6 out of 5 stars\\n...</td>\n",
       "      <td>2022-08-25</td>\n",
       "    </tr>\n",
       "    <tr>\n",
       "      <th>7</th>\n",
       "      <td>Automate the Boring Stuff with Python, 2nd Edi...</td>\n",
       "      <td>2,429.00</td>\n",
       "      <td>\\n\\n\\n\\n\\n                4.6 out of 5 stars\\n...</td>\n",
       "      <td>2022-08-25</td>\n",
       "    </tr>\n",
       "  </tbody>\n",
       "</table>\n",
       "</div>"
      ],
      "text/plain": [
       "                                               Title     Price  \\\n",
       "0  Automate the Boring Stuff with Python, 2nd Edi...  2,429.00   \n",
       "1  Automate the Boring Stuff with Python, 2nd Edi...  2,429.00   \n",
       "2  Automate the Boring Stuff with Python, 2nd Edi...  2,429.00   \n",
       "3  Automate the Boring Stuff with Python, 2nd Edi...  2,429.00   \n",
       "4  Automate the Boring Stuff with Python, 2nd Edi...  2,429.00   \n",
       "5  Automate the Boring Stuff with Python, 2nd Edi...  2,429.00   \n",
       "6  Automate the Boring Stuff with Python, 2nd Edi...  2,429.00   \n",
       "7  Automate the Boring Stuff with Python, 2nd Edi...  2,429.00   \n",
       "\n",
       "                                              Rating        Date  \n",
       "0                                 4.6 out of 5 stars  2022-08-25  \n",
       "1  \\n\\n\\n\\n\\n                4.6 out of 5 stars\\n...  2022-08-25  \n",
       "2  \\n\\n\\n\\n\\n                4.6 out of 5 stars\\n...  2022-08-25  \n",
       "3  \\n\\n\\n\\n\\n                4.6 out of 5 stars\\n...  2022-08-25  \n",
       "4  \\n\\n\\n\\n\\n                4.6 out of 5 stars\\n...  2022-08-25  \n",
       "5  \\n\\n\\n\\n\\n                4.6 out of 5 stars\\n...  2022-08-25  \n",
       "6  \\n\\n\\n\\n\\n                4.6 out of 5 stars\\n...  2022-08-25  \n",
       "7  \\n\\n\\n\\n\\n                4.6 out of 5 stars\\n...  2022-08-25  "
      ]
     },
     "execution_count": 13,
     "metadata": {},
     "output_type": "execute_result"
    }
   ],
   "source": [
    "df = pd.read_csv(r'C:\\Users\\arun\\Data Analysis Portfolio\\Amazon_web_scriper_book.csv')\n",
    "df"
   ]
  },
  {
   "cell_type": "code",
   "execution_count": null,
   "id": "b7507dd8",
   "metadata": {},
   "outputs": [],
   "source": []
  }
 ],
 "metadata": {
  "kernelspec": {
   "display_name": "Python 3 (ipykernel)",
   "language": "python",
   "name": "python3"
  },
  "language_info": {
   "codemirror_mode": {
    "name": "ipython",
    "version": 3
   },
   "file_extension": ".py",
   "mimetype": "text/x-python",
   "name": "python",
   "nbconvert_exporter": "python",
   "pygments_lexer": "ipython3",
   "version": "3.9.7"
  }
 },
 "nbformat": 4,
 "nbformat_minor": 5
}
